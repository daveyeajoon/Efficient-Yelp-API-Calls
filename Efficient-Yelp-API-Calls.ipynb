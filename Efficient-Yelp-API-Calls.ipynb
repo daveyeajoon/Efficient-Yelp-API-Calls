{
 "cells": [
  {
   "cell_type": "code",
   "execution_count": 24,
   "id": "34e43fb2",
   "metadata": {},
   "outputs": [],
   "source": [
    "# Standard Imports\n",
    "import numpy as np\n",
    "import pandas as pd\n",
    "import matplotlib.pyplot as plt\n",
    "import seaborn as sns\n",
    "# Additional Imports\n",
    "import os, json, math, time\n",
    "from yelpapi import YelpAPI\n",
    "from tqdm.notebook import tqdm_notebook"
   ]
  },
  {
   "cell_type": "code",
   "execution_count": 9,
   "id": "19ba8bb5",
   "metadata": {},
   "outputs": [
    {
     "data": {
      "text/plain": [
       "dict_keys(['client-id', 'api-key'])"
      ]
     },
     "execution_count": 9,
     "metadata": {},
     "output_type": "execute_result"
    }
   ],
   "source": [
    "#Load Yelp API Credentials\n",
    "with open('/Users/Yeajoon Yoo/codingdojo/.secret/yelp_api.json') as f: #my pathway\n",
    "    login = json.load(f)\n",
    "login.keys()"
   ]
  },
  {
   "cell_type": "code",
   "execution_count": 11,
   "id": "0ac3bfd6",
   "metadata": {},
   "outputs": [
    {
     "data": {
      "text/plain": [
       "<yelpapi.yelpapi.YelpAPI at 0x1f0adc88a30>"
      ]
     },
     "execution_count": 11,
     "metadata": {},
     "output_type": "execute_result"
    }
   ],
   "source": [
    "yelp_api = YelpAPI(login['api-key'], timeout_s=5.0)\n",
    "yelp_api"
   ]
  },
  {
   "cell_type": "code",
   "execution_count": 13,
   "id": "54e001fa",
   "metadata": {},
   "outputs": [
    {
     "data": {
      "text/plain": [
       "dict_keys(['businesses', 'total', 'region'])"
      ]
     },
     "execution_count": 13,
     "metadata": {},
     "output_type": "execute_result"
    }
   ],
   "source": [
    "# Quick Test Query\n",
    "results = yelp_api.search_query(location='Baltimore, MD',\n",
    "                                       term='Crab Cake')\n",
    "type(results)\n",
    "results.keys()\n",
    "\n"
   ]
  },
  {
   "cell_type": "code",
   "execution_count": 14,
   "id": "21cc0509",
   "metadata": {},
   "outputs": [],
   "source": [
    "LOCATION = 'Lynchburg'\n",
    "TERM = 'Steak'"
   ]
  },
  {
   "cell_type": "code",
   "execution_count": 15,
   "id": "52b1a0a2",
   "metadata": {},
   "outputs": [
    {
     "data": {
      "text/plain": [
       "'Data/results_Lynchburg_Steak.json'"
      ]
     },
     "execution_count": 15,
     "metadata": {},
     "output_type": "execute_result"
    }
   ],
   "source": [
    "JSON_FILE = f\"Data/results_Lynchburg_Steak.json\"\n",
    "JSON_FILE"
   ]
  },
  {
   "cell_type": "code",
   "execution_count": 16,
   "id": "888103ea",
   "metadata": {},
   "outputs": [
    {
     "name": "stdout",
     "output_type": "stream",
     "text": [
      "[i] Data/results_Lynchburg_Steak.json not found. Saving empty list to file.\n"
     ]
    }
   ],
   "source": [
    "file_exists = os.path.isfile(JSON_FILE)\n",
    "\n",
    "if file_exists == False:\n",
    "    folder = os.path.dirname(JSON_FILE)\n",
    "    \n",
    "    if len(folder)>0:\n",
    "        os.makedirs(folder,exist_ok=True)\n",
    "        \n",
    "    print(f\"[i] {JSON_FILE} not found. Saving empty list to file.\")\n",
    "    \n",
    "    ## save the first page of results\n",
    "    with open(JSON_FILE,'w') as f:\n",
    "        json.dump([],f)  \n",
    "## If it exists, inform user\n",
    "else:\n",
    "    print(f\"[i] {JSON_FILE} already exists.\")"
   ]
  },
  {
   "cell_type": "code",
   "execution_count": 17,
   "id": "d05ac65a",
   "metadata": {},
   "outputs": [
    {
     "name": "stdout",
     "output_type": "stream",
     "text": [
      "- 0 previous results found.\n"
     ]
    }
   ],
   "source": [
    "## Load previous results and use len of results for offset\n",
    "with open(JSON_FILE,'r') as f:\n",
    "    previous_results = json.load(f)\n",
    "    \n",
    "## set offset based on previous results\n",
    "n_results = len(previous_results)\n",
    "print(f'- {n_results} previous results found.')"
   ]
  },
  {
   "cell_type": "code",
   "execution_count": 18,
   "id": "50a5855c",
   "metadata": {},
   "outputs": [
    {
     "data": {
      "text/plain": [
       "dict_keys(['businesses', 'total', 'region'])"
      ]
     },
     "execution_count": 18,
     "metadata": {},
     "output_type": "execute_result"
    }
   ],
   "source": [
    "results = yelp_api.search_query(location=LOCATION,\n",
    "                                term=TERM,\n",
    "                               offset=n_results)\n",
    "results.keys()"
   ]
  },
  {
   "cell_type": "code",
   "execution_count": 19,
   "id": "36680a78",
   "metadata": {},
   "outputs": [
    {
     "data": {
      "text/plain": [
       "161"
      ]
     },
     "execution_count": 19,
     "metadata": {},
     "output_type": "execute_result"
    }
   ],
   "source": [
    "total_results = results['total']\n",
    "total_results"
   ]
  },
  {
   "cell_type": "code",
   "execution_count": 20,
   "id": "b2ceb9b4",
   "metadata": {},
   "outputs": [
    {
     "data": {
      "text/plain": [
       "20"
      ]
     },
     "execution_count": 20,
     "metadata": {},
     "output_type": "execute_result"
    }
   ],
   "source": [
    "results_per_page = len(results['businesses'])\n",
    "results_per_page"
   ]
  },
  {
   "cell_type": "code",
   "execution_count": 21,
   "id": "737b5ee5",
   "metadata": {},
   "outputs": [
    {
     "data": {
      "text/plain": [
       "9"
      ]
     },
     "execution_count": 21,
     "metadata": {},
     "output_type": "execute_result"
    }
   ],
   "source": [
    "n_pages = math.ceil((results['total']-n_results)/ results_per_page)\n",
    "n_pages"
   ]
  },
  {
   "cell_type": "code",
   "execution_count": 22,
   "id": "2a803b36",
   "metadata": {},
   "outputs": [],
   "source": [
    "previous_results.extend(results['businesses'])  \n",
    "with open(JSON_FILE,'w') as f:\n",
    "     json.dump(previous_results,f)"
   ]
  },
  {
   "cell_type": "code",
   "execution_count": 25,
   "id": "df165784",
   "metadata": {},
   "outputs": [
    {
     "name": "stdout",
     "output_type": "stream",
     "text": [
      "Requirement already satisfied: tqdm in c:\\users\\yeajoon yoo\\anaconda3\\envs\\dojo-env\\lib\\site-packages (4.64.0)\n",
      "Requirement already satisfied: colorama in c:\\users\\yeajoon yoo\\anaconda3\\envs\\dojo-env\\lib\\site-packages (from tqdm) (0.4.5)\n",
      "Note: you may need to restart the kernel to use updated packages.\n"
     ]
    }
   ],
   "source": [
    "pip install tqdm"
   ]
  },
  {
   "cell_type": "code",
   "execution_count": 26,
   "id": "784f1400",
   "metadata": {},
   "outputs": [
    {
     "data": {
      "application/vnd.jupyter.widget-view+json": {
       "model_id": "4f9e98e0ac0b46c9918a00e84fa4d31f",
       "version_major": 2,
       "version_minor": 0
      },
      "text/plain": [
       "  0%|          | 0/9 [00:00<?, ?it/s]"
      ]
     },
     "metadata": {},
     "output_type": "display_data"
    }
   ],
   "source": [
    "# add progress bar\n",
    "from tqdm.notebook import tqdm_notebook\n",
    "import time\n",
    "for i in tqdm_notebook(range(n_pages)):\n",
    "    # adds 200 ms pause\n",
    "    time.sleep(.2) "
   ]
  },
  {
   "cell_type": "code",
   "execution_count": 27,
   "id": "54c94104",
   "metadata": {},
   "outputs": [
    {
     "data": {
      "application/vnd.jupyter.widget-view+json": {
       "model_id": "fd62240cd8c045e6bf4716b5bea2dd21",
       "version_major": 2,
       "version_minor": 0
      },
      "text/plain": [
       "  0%|          | 0/9 [00:00<?, ?it/s]"
      ]
     },
     "metadata": {},
     "output_type": "display_data"
    }
   ],
   "source": [
    "for i in tqdm_notebook( range(1,n_pages+1)):\n",
    "    time.sleep(.2)\n",
    "    ## Read in results in progress file and check the length\n",
    "    with open(JSON_FILE, 'r') as f:\n",
    "        previous_results = json.load(f)\n",
    "    ## save number of results for to use as offset\n",
    "    n_results = len(previous_results)\n",
    "    ## use n_results as the OFFSET \n",
    "    results = yelp_api.search_query(location=LOCATION,\n",
    "                                    term=TERM, \n",
    "                                    offset=n_results)\n",
    "    \n",
    "    ## append new results and save to file\n",
    "    previous_results.extend(results['businesses'])\n",
    "    \n",
    "#     display(previous_results)\n",
    "    with open(JSON_FILE,'w') as f:\n",
    "        json.dump(previous_results,f)"
   ]
  },
  {
   "cell_type": "code",
   "execution_count": 28,
   "id": "7c14f4d4",
   "metadata": {},
   "outputs": [
    {
     "data": {
      "text/html": [
       "<div>\n",
       "<style scoped>\n",
       "    .dataframe tbody tr th:only-of-type {\n",
       "        vertical-align: middle;\n",
       "    }\n",
       "\n",
       "    .dataframe tbody tr th {\n",
       "        vertical-align: top;\n",
       "    }\n",
       "\n",
       "    .dataframe thead th {\n",
       "        text-align: right;\n",
       "    }\n",
       "</style>\n",
       "<table border=\"1\" class=\"dataframe\">\n",
       "  <thead>\n",
       "    <tr style=\"text-align: right;\">\n",
       "      <th></th>\n",
       "      <th>id</th>\n",
       "      <th>alias</th>\n",
       "      <th>name</th>\n",
       "      <th>image_url</th>\n",
       "      <th>is_closed</th>\n",
       "      <th>url</th>\n",
       "      <th>review_count</th>\n",
       "      <th>categories</th>\n",
       "      <th>rating</th>\n",
       "      <th>coordinates</th>\n",
       "      <th>transactions</th>\n",
       "      <th>price</th>\n",
       "      <th>location</th>\n",
       "      <th>phone</th>\n",
       "      <th>display_phone</th>\n",
       "      <th>distance</th>\n",
       "    </tr>\n",
       "  </thead>\n",
       "  <tbody>\n",
       "    <tr>\n",
       "      <th>0</th>\n",
       "      <td>ThUfjlii1hY3Yyx2GY7D9A</td>\n",
       "      <td>iron-and-ale-lynchburg-tap-and-table-lynchburg</td>\n",
       "      <td>Iron &amp; Ale Lynchburg Tap and Table</td>\n",
       "      <td>https://s3-media2.fl.yelpcdn.com/bphoto/Hp7ez9...</td>\n",
       "      <td>False</td>\n",
       "      <td>https://www.yelp.com/biz/iron-and-ale-lynchbur...</td>\n",
       "      <td>227</td>\n",
       "      <td>[{'alias': 'newamerican', 'title': 'American (...</td>\n",
       "      <td>4.0</td>\n",
       "      <td>{'latitude': 37.33946, 'longitude': -79.2248}</td>\n",
       "      <td>[pickup, delivery]</td>\n",
       "      <td>$$</td>\n",
       "      <td>{'address1': '106 Cornerstone St', 'address2':...</td>\n",
       "      <td>+14349449697</td>\n",
       "      <td>(434) 944-9697</td>\n",
       "      <td>5891.180237</td>\n",
       "    </tr>\n",
       "    <tr>\n",
       "      <th>1</th>\n",
       "      <td>9kiHCpIDcdyjK9PkxnaFLQ</td>\n",
       "      <td>bulls-steakhouse-forest</td>\n",
       "      <td>Bulls Steakhouse</td>\n",
       "      <td>https://s3-media2.fl.yelpcdn.com/bphoto/c9VhKC...</td>\n",
       "      <td>False</td>\n",
       "      <td>https://www.yelp.com/biz/bulls-steakhouse-fore...</td>\n",
       "      <td>48</td>\n",
       "      <td>[{'alias': 'steak', 'title': 'Steakhouses'}]</td>\n",
       "      <td>4.0</td>\n",
       "      <td>{'latitude': 37.37881, 'longitude': -79.24887}</td>\n",
       "      <td>[delivery]</td>\n",
       "      <td>$$</td>\n",
       "      <td>{'address1': '1887 Graves Mill Rd', 'address2'...</td>\n",
       "      <td>+14343857581</td>\n",
       "      <td>(434) 385-7581</td>\n",
       "      <td>4910.241809</td>\n",
       "    </tr>\n",
       "    <tr>\n",
       "      <th>2</th>\n",
       "      <td>P_ohsmG-EUMBregPCcyphw</td>\n",
       "      <td>william-and-henry-steakhouse-lynchburg</td>\n",
       "      <td>William &amp; Henry Steakhouse</td>\n",
       "      <td>https://s3-media1.fl.yelpcdn.com/bphoto/Cch7OF...</td>\n",
       "      <td>False</td>\n",
       "      <td>https://www.yelp.com/biz/william-and-henry-ste...</td>\n",
       "      <td>55</td>\n",
       "      <td>[{'alias': 'steak', 'title': 'Steakhouses'}]</td>\n",
       "      <td>4.0</td>\n",
       "      <td>{'latitude': 37.41535916319549, 'longitude': -...</td>\n",
       "      <td>[delivery]</td>\n",
       "      <td>NaN</td>\n",
       "      <td>{'address1': '712 Church St', 'address2': None...</td>\n",
       "      <td>+14346164423</td>\n",
       "      <td>(434) 616-4423</td>\n",
       "      <td>5317.230855</td>\n",
       "    </tr>\n",
       "    <tr>\n",
       "      <th>3</th>\n",
       "      <td>cJR6sta1Md3QoTq3xhQq0w</td>\n",
       "      <td>shoemakers-restaurant-lynchburg</td>\n",
       "      <td>Shoemaker's Restaurant</td>\n",
       "      <td>https://s3-media3.fl.yelpcdn.com/bphoto/YHefR9...</td>\n",
       "      <td>False</td>\n",
       "      <td>https://www.yelp.com/biz/shoemakers-restaurant...</td>\n",
       "      <td>213</td>\n",
       "      <td>[{'alias': 'newamerican', 'title': 'American (...</td>\n",
       "      <td>4.0</td>\n",
       "      <td>{'latitude': 37.411627, 'longitude': -79.137913}</td>\n",
       "      <td>[delivery]</td>\n",
       "      <td>$$$</td>\n",
       "      <td>{'address1': '1312 Commerce St', 'address2': '...</td>\n",
       "      <td>+14344551510</td>\n",
       "      <td>(434) 455-1510</td>\n",
       "      <td>5509.902062</td>\n",
       "    </tr>\n",
       "    <tr>\n",
       "      <th>4</th>\n",
       "      <td>MLbP36BXbNefVgVxGjJp9w</td>\n",
       "      <td>benjamins-forest</td>\n",
       "      <td>Benjamin's</td>\n",
       "      <td>https://s3-media1.fl.yelpcdn.com/bphoto/0GKIJm...</td>\n",
       "      <td>False</td>\n",
       "      <td>https://www.yelp.com/biz/benjamins-forest?adju...</td>\n",
       "      <td>100</td>\n",
       "      <td>[{'alias': 'seafood', 'title': 'Seafood'}, {'a...</td>\n",
       "      <td>4.0</td>\n",
       "      <td>{'latitude': 37.36628, 'longitude': -79.29494}</td>\n",
       "      <td>[delivery]</td>\n",
       "      <td>$$</td>\n",
       "      <td>{'address1': '14900 Forest Rd', 'address2': ''...</td>\n",
       "      <td>+14345346077</td>\n",
       "      <td>(434) 534-6077</td>\n",
       "      <td>9440.648026</td>\n",
       "    </tr>\n",
       "  </tbody>\n",
       "</table>\n",
       "</div>"
      ],
      "text/plain": [
       "                       id                                           alias  \\\n",
       "0  ThUfjlii1hY3Yyx2GY7D9A  iron-and-ale-lynchburg-tap-and-table-lynchburg   \n",
       "1  9kiHCpIDcdyjK9PkxnaFLQ                         bulls-steakhouse-forest   \n",
       "2  P_ohsmG-EUMBregPCcyphw          william-and-henry-steakhouse-lynchburg   \n",
       "3  cJR6sta1Md3QoTq3xhQq0w                 shoemakers-restaurant-lynchburg   \n",
       "4  MLbP36BXbNefVgVxGjJp9w                                benjamins-forest   \n",
       "\n",
       "                                 name  \\\n",
       "0  Iron & Ale Lynchburg Tap and Table   \n",
       "1                    Bulls Steakhouse   \n",
       "2          William & Henry Steakhouse   \n",
       "3              Shoemaker's Restaurant   \n",
       "4                          Benjamin's   \n",
       "\n",
       "                                           image_url  is_closed  \\\n",
       "0  https://s3-media2.fl.yelpcdn.com/bphoto/Hp7ez9...      False   \n",
       "1  https://s3-media2.fl.yelpcdn.com/bphoto/c9VhKC...      False   \n",
       "2  https://s3-media1.fl.yelpcdn.com/bphoto/Cch7OF...      False   \n",
       "3  https://s3-media3.fl.yelpcdn.com/bphoto/YHefR9...      False   \n",
       "4  https://s3-media1.fl.yelpcdn.com/bphoto/0GKIJm...      False   \n",
       "\n",
       "                                                 url  review_count  \\\n",
       "0  https://www.yelp.com/biz/iron-and-ale-lynchbur...           227   \n",
       "1  https://www.yelp.com/biz/bulls-steakhouse-fore...            48   \n",
       "2  https://www.yelp.com/biz/william-and-henry-ste...            55   \n",
       "3  https://www.yelp.com/biz/shoemakers-restaurant...           213   \n",
       "4  https://www.yelp.com/biz/benjamins-forest?adju...           100   \n",
       "\n",
       "                                          categories  rating  \\\n",
       "0  [{'alias': 'newamerican', 'title': 'American (...     4.0   \n",
       "1       [{'alias': 'steak', 'title': 'Steakhouses'}]     4.0   \n",
       "2       [{'alias': 'steak', 'title': 'Steakhouses'}]     4.0   \n",
       "3  [{'alias': 'newamerican', 'title': 'American (...     4.0   \n",
       "4  [{'alias': 'seafood', 'title': 'Seafood'}, {'a...     4.0   \n",
       "\n",
       "                                         coordinates        transactions  \\\n",
       "0      {'latitude': 37.33946, 'longitude': -79.2248}  [pickup, delivery]   \n",
       "1     {'latitude': 37.37881, 'longitude': -79.24887}          [delivery]   \n",
       "2  {'latitude': 37.41535916319549, 'longitude': -...          [delivery]   \n",
       "3   {'latitude': 37.411627, 'longitude': -79.137913}          [delivery]   \n",
       "4     {'latitude': 37.36628, 'longitude': -79.29494}          [delivery]   \n",
       "\n",
       "  price                                           location         phone  \\\n",
       "0    $$  {'address1': '106 Cornerstone St', 'address2':...  +14349449697   \n",
       "1    $$  {'address1': '1887 Graves Mill Rd', 'address2'...  +14343857581   \n",
       "2   NaN  {'address1': '712 Church St', 'address2': None...  +14346164423   \n",
       "3   $$$  {'address1': '1312 Commerce St', 'address2': '...  +14344551510   \n",
       "4    $$  {'address1': '14900 Forest Rd', 'address2': ''...  +14345346077   \n",
       "\n",
       "    display_phone     distance  \n",
       "0  (434) 944-9697  5891.180237  \n",
       "1  (434) 385-7581  4910.241809  \n",
       "2  (434) 616-4423  5317.230855  \n",
       "3  (434) 455-1510  5509.902062  \n",
       "4  (434) 534-6077  9440.648026  "
      ]
     },
     "metadata": {},
     "output_type": "display_data"
    },
    {
     "data": {
      "text/html": [
       "<div>\n",
       "<style scoped>\n",
       "    .dataframe tbody tr th:only-of-type {\n",
       "        vertical-align: middle;\n",
       "    }\n",
       "\n",
       "    .dataframe tbody tr th {\n",
       "        vertical-align: top;\n",
       "    }\n",
       "\n",
       "    .dataframe thead th {\n",
       "        text-align: right;\n",
       "    }\n",
       "</style>\n",
       "<table border=\"1\" class=\"dataframe\">\n",
       "  <thead>\n",
       "    <tr style=\"text-align: right;\">\n",
       "      <th></th>\n",
       "      <th>id</th>\n",
       "      <th>alias</th>\n",
       "      <th>name</th>\n",
       "      <th>image_url</th>\n",
       "      <th>is_closed</th>\n",
       "      <th>url</th>\n",
       "      <th>review_count</th>\n",
       "      <th>categories</th>\n",
       "      <th>rating</th>\n",
       "      <th>coordinates</th>\n",
       "      <th>transactions</th>\n",
       "      <th>price</th>\n",
       "      <th>location</th>\n",
       "      <th>phone</th>\n",
       "      <th>display_phone</th>\n",
       "      <th>distance</th>\n",
       "    </tr>\n",
       "  </thead>\n",
       "  <tbody>\n",
       "    <tr>\n",
       "      <th>156</th>\n",
       "      <td>J6_Wsg3XLdF-fK2MWYUVVg</td>\n",
       "      <td>subway-rustburg-4</td>\n",
       "      <td>Subway</td>\n",
       "      <td>https://s3-media2.fl.yelpcdn.com/bphoto/PXUkgo...</td>\n",
       "      <td>False</td>\n",
       "      <td>https://www.yelp.com/biz/subway-rustburg-4?adj...</td>\n",
       "      <td>1</td>\n",
       "      <td>[{'alias': 'sandwiches', 'title': 'Sandwiches'}]</td>\n",
       "      <td>1.0</td>\n",
       "      <td>{'latitude': 37.2793513, 'longitude': -79.1681...</td>\n",
       "      <td>[]</td>\n",
       "      <td>$</td>\n",
       "      <td>{'address1': '1788 Calohan Rd', 'address2': ''...</td>\n",
       "      <td>+14346162266</td>\n",
       "      <td>(434) 616-2266</td>\n",
       "      <td>11960.781906</td>\n",
       "    </tr>\n",
       "    <tr>\n",
       "      <th>157</th>\n",
       "      <td>c9QYtmzkh8usQG2TsrKrOg</td>\n",
       "      <td>la-caretta-forest</td>\n",
       "      <td>La Caretta</td>\n",
       "      <td>https://s3-media2.fl.yelpcdn.com/bphoto/cvhD6e...</td>\n",
       "      <td>False</td>\n",
       "      <td>https://www.yelp.com/biz/la-caretta-forest?adj...</td>\n",
       "      <td>30</td>\n",
       "      <td>[{'alias': 'mexican', 'title': 'Mexican'}, {'a...</td>\n",
       "      <td>4.0</td>\n",
       "      <td>{'latitude': 37.3694915771484, 'longitude': -7...</td>\n",
       "      <td>[delivery]</td>\n",
       "      <td>$</td>\n",
       "      <td>{'address1': '14575 Forest Rd', 'address2': ''...</td>\n",
       "      <td>+14345254737</td>\n",
       "      <td>(434) 525-4737</td>\n",
       "      <td>9902.484854</td>\n",
       "    </tr>\n",
       "    <tr>\n",
       "      <th>158</th>\n",
       "      <td>xu_cfWtJcq9UWKudEquWoA</td>\n",
       "      <td>subway-forest-7</td>\n",
       "      <td>Subway</td>\n",
       "      <td>https://s3-media3.fl.yelpcdn.com/bphoto/-5ffD4...</td>\n",
       "      <td>False</td>\n",
       "      <td>https://www.yelp.com/biz/subway-forest-7?adjus...</td>\n",
       "      <td>5</td>\n",
       "      <td>[{'alias': 'sandwiches', 'title': 'Sandwiches'}]</td>\n",
       "      <td>1.5</td>\n",
       "      <td>{'latitude': 37.3648674699833, 'longitude': -7...</td>\n",
       "      <td>[pickup, delivery]</td>\n",
       "      <td>$</td>\n",
       "      <td>{'address1': '14805 Forest Rd', 'address2': 'S...</td>\n",
       "      <td>+14345253240</td>\n",
       "      <td>(434) 525-3240</td>\n",
       "      <td>9547.443217</td>\n",
       "    </tr>\n",
       "    <tr>\n",
       "      <th>159</th>\n",
       "      <td>iwNaYH6YEZs28iCQm8_fhQ</td>\n",
       "      <td>subway-madison-heights-5</td>\n",
       "      <td>Subway</td>\n",
       "      <td>https://s3-media1.fl.yelpcdn.com/bphoto/deFB42...</td>\n",
       "      <td>False</td>\n",
       "      <td>https://www.yelp.com/biz/subway-madison-height...</td>\n",
       "      <td>11</td>\n",
       "      <td>[{'alias': 'sandwiches', 'title': 'Sandwiches'}]</td>\n",
       "      <td>2.5</td>\n",
       "      <td>{'latitude': 37.4492634712345, 'longitude': -7...</td>\n",
       "      <td>[pickup, delivery]</td>\n",
       "      <td>$</td>\n",
       "      <td>{'address1': '4574 S Amherst Hwy', 'address2':...</td>\n",
       "      <td>+14348457827</td>\n",
       "      <td>(434) 845-7827</td>\n",
       "      <td>9414.563201</td>\n",
       "    </tr>\n",
       "    <tr>\n",
       "      <th>160</th>\n",
       "      <td>aEHbJKaYZ-Mves0f4Tjujg</td>\n",
       "      <td>dominos-pizza-forest-4</td>\n",
       "      <td>Domino's Pizza</td>\n",
       "      <td>https://s3-media2.fl.yelpcdn.com/bphoto/LRm23C...</td>\n",
       "      <td>False</td>\n",
       "      <td>https://www.yelp.com/biz/dominos-pizza-forest-...</td>\n",
       "      <td>14</td>\n",
       "      <td>[{'alias': 'pizza', 'title': 'Pizza'}, {'alias...</td>\n",
       "      <td>1.5</td>\n",
       "      <td>{'latitude': 37.3700233, 'longitude': -79.3017...</td>\n",
       "      <td>[]</td>\n",
       "      <td>$</td>\n",
       "      <td>{'address1': '14521 Forest Rd', 'address2': ''...</td>\n",
       "      <td>+14343850404</td>\n",
       "      <td>(434) 385-0404</td>\n",
       "      <td>9949.106678</td>\n",
       "    </tr>\n",
       "  </tbody>\n",
       "</table>\n",
       "</div>"
      ],
      "text/plain": [
       "                         id                     alias            name  \\\n",
       "156  J6_Wsg3XLdF-fK2MWYUVVg         subway-rustburg-4          Subway   \n",
       "157  c9QYtmzkh8usQG2TsrKrOg         la-caretta-forest      La Caretta   \n",
       "158  xu_cfWtJcq9UWKudEquWoA           subway-forest-7          Subway   \n",
       "159  iwNaYH6YEZs28iCQm8_fhQ  subway-madison-heights-5          Subway   \n",
       "160  aEHbJKaYZ-Mves0f4Tjujg    dominos-pizza-forest-4  Domino's Pizza   \n",
       "\n",
       "                                             image_url  is_closed  \\\n",
       "156  https://s3-media2.fl.yelpcdn.com/bphoto/PXUkgo...      False   \n",
       "157  https://s3-media2.fl.yelpcdn.com/bphoto/cvhD6e...      False   \n",
       "158  https://s3-media3.fl.yelpcdn.com/bphoto/-5ffD4...      False   \n",
       "159  https://s3-media1.fl.yelpcdn.com/bphoto/deFB42...      False   \n",
       "160  https://s3-media2.fl.yelpcdn.com/bphoto/LRm23C...      False   \n",
       "\n",
       "                                                   url  review_count  \\\n",
       "156  https://www.yelp.com/biz/subway-rustburg-4?adj...             1   \n",
       "157  https://www.yelp.com/biz/la-caretta-forest?adj...            30   \n",
       "158  https://www.yelp.com/biz/subway-forest-7?adjus...             5   \n",
       "159  https://www.yelp.com/biz/subway-madison-height...            11   \n",
       "160  https://www.yelp.com/biz/dominos-pizza-forest-...            14   \n",
       "\n",
       "                                            categories  rating  \\\n",
       "156   [{'alias': 'sandwiches', 'title': 'Sandwiches'}]     1.0   \n",
       "157  [{'alias': 'mexican', 'title': 'Mexican'}, {'a...     4.0   \n",
       "158   [{'alias': 'sandwiches', 'title': 'Sandwiches'}]     1.5   \n",
       "159   [{'alias': 'sandwiches', 'title': 'Sandwiches'}]     2.5   \n",
       "160  [{'alias': 'pizza', 'title': 'Pizza'}, {'alias...     1.5   \n",
       "\n",
       "                                           coordinates        transactions  \\\n",
       "156  {'latitude': 37.2793513, 'longitude': -79.1681...                  []   \n",
       "157  {'latitude': 37.3694915771484, 'longitude': -7...          [delivery]   \n",
       "158  {'latitude': 37.3648674699833, 'longitude': -7...  [pickup, delivery]   \n",
       "159  {'latitude': 37.4492634712345, 'longitude': -7...  [pickup, delivery]   \n",
       "160  {'latitude': 37.3700233, 'longitude': -79.3017...                  []   \n",
       "\n",
       "    price                                           location         phone  \\\n",
       "156     $  {'address1': '1788 Calohan Rd', 'address2': ''...  +14346162266   \n",
       "157     $  {'address1': '14575 Forest Rd', 'address2': ''...  +14345254737   \n",
       "158     $  {'address1': '14805 Forest Rd', 'address2': 'S...  +14345253240   \n",
       "159     $  {'address1': '4574 S Amherst Hwy', 'address2':...  +14348457827   \n",
       "160     $  {'address1': '14521 Forest Rd', 'address2': ''...  +14343850404   \n",
       "\n",
       "      display_phone      distance  \n",
       "156  (434) 616-2266  11960.781906  \n",
       "157  (434) 525-4737   9902.484854  \n",
       "158  (434) 525-3240   9547.443217  \n",
       "159  (434) 845-7827   9414.563201  \n",
       "160  (434) 385-0404   9949.106678  "
      ]
     },
     "metadata": {},
     "output_type": "display_data"
    }
   ],
   "source": [
    "# load final results\n",
    "final_df = pd.read_json(JSON_FILE)\n",
    "display(final_df.head(), final_df.tail())"
   ]
  },
  {
   "cell_type": "code",
   "execution_count": 29,
   "id": "05cc391b",
   "metadata": {},
   "outputs": [
    {
     "data": {
      "text/plain": [
       "1"
      ]
     },
     "execution_count": 29,
     "metadata": {},
     "output_type": "execute_result"
    }
   ],
   "source": [
    "# check for duplicate IDs\n",
    "final_df.duplicated(subset='id').sum()"
   ]
  },
  {
   "cell_type": "code",
   "execution_count": 30,
   "id": "4dde4997",
   "metadata": {},
   "outputs": [],
   "source": [
    "# save the final results to a compressed csv\n",
    "final_df.to_csv('Data/final_results_crab_cakes.csv.gz', compression='gzip',index=False)"
   ]
  }
 ],
 "metadata": {
  "kernelspec": {
   "display_name": "Python (dojo-env)",
   "language": "python",
   "name": "dojo-env"
  },
  "language_info": {
   "codemirror_mode": {
    "name": "ipython",
    "version": 3
   },
   "file_extension": ".py",
   "mimetype": "text/x-python",
   "name": "python",
   "nbconvert_exporter": "python",
   "pygments_lexer": "ipython3",
   "version": "3.8.13"
  },
  "toc": {
   "base_numbering": 1,
   "nav_menu": {},
   "number_sections": false,
   "sideBar": true,
   "skip_h1_title": false,
   "title_cell": "Table of Contents",
   "title_sidebar": "Contents",
   "toc_cell": false,
   "toc_position": {},
   "toc_section_display": true,
   "toc_window_display": false
  }
 },
 "nbformat": 4,
 "nbformat_minor": 5
}
